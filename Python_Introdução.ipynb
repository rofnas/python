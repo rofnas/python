{
  "nbformat": 4,
  "nbformat_minor": 0,
  "metadata": {
    "colab": {
      "name": "Python:Introdução.ipynb",
      "provenance": [],
      "collapsed_sections": [],
      "include_colab_link": true
    },
    "kernelspec": {
      "name": "python3",
      "display_name": "Python 3"
    },
    "language_info": {
      "name": "python"
    }
  },
  "cells": [
    {
      "cell_type": "markdown",
      "metadata": {
        "id": "view-in-github",
        "colab_type": "text"
      },
      "source": [
        "<a href=\"https://colab.research.google.com/github/rofnas/python/blob/main/Python_Introdu%C3%A7%C3%A3o.ipynb\" target=\"_parent\"><img src=\"https://colab.research.google.com/assets/colab-badge.svg\" alt=\"Open In Colab\"/></a>"
      ]
    },
    {
      "cell_type": "markdown",
      "metadata": {
        "id": "p-q9cZL2tPvE"
      },
      "source": [
        "# Um pouco sobre a história da computação."
      ]
    },
    {
      "cell_type": "markdown",
      "metadata": {
        "id": "UzNxxj6M_bqq"
      },
      "source": [
        "## O que é programação?"
      ]
    },
    {
      "cell_type": "markdown",
      "metadata": {
        "id": "INxvCxfL_3Jn"
      },
      "source": [
        "## O que é um programa de computador?\n",
        "\n"
      ]
    },
    {
      "cell_type": "markdown",
      "metadata": {
        "id": "LLoSPWxQADqa"
      },
      "source": [
        "## O que é um algoritmo?"
      ]
    },
    {
      "cell_type": "markdown",
      "metadata": {
        "id": "SyJDtR9DAI8V"
      },
      "source": [
        "# Python\n",
        "### Aplicações python\n",
        "### Ambientes de programação python\n",
        "\n",
        "\n",
        "\n"
      ]
    },
    {
      "cell_type": "markdown",
      "metadata": {
        "id": "TF1tX30Pj6dT"
      },
      "source": [
        "# A linguagem Python"
      ]
    },
    {
      "cell_type": "code",
      "metadata": {
        "colab": {
          "base_uri": "https://localhost:8080/"
        },
        "id": "z9DaUt8NkEMb",
        "outputId": "5f42e7de-7cde-4e93-a932-379bb274b27f"
      },
      "source": [
        "print(\"Hello World\") #  Este é um comentário"
      ],
      "execution_count": null,
      "outputs": [
        {
          "output_type": "stream",
          "text": [
            "Hello World\n"
          ],
          "name": "stdout"
        }
      ]
    },
    {
      "cell_type": "markdown",
      "metadata": {
        "id": "gTtyE3plpq4x"
      },
      "source": [
        "# Tipos de dados em Python"
      ]
    },
    {
      "cell_type": "code",
      "metadata": {
        "colab": {
          "base_uri": "https://localhost:8080/"
        },
        "id": "0qV5ISL1utuu",
        "outputId": "c0b54743-260d-4d45-f2ca-44ecfd0ff7b0"
      },
      "source": [
        " aluno  = \"Elisangela\"\n",
        "print(aluno)"
      ],
      "execution_count": null,
      "outputs": [
        {
          "output_type": "stream",
          "text": [
            "Elisangela\n"
          ],
          "name": "stdout"
        }
      ]
    },
    {
      "cell_type": "code",
      "metadata": {
        "colab": {
          "base_uri": "https://localhost:8080/"
        },
        "id": "SsGvi_VXpxNc",
        "outputId": "397dfd46-da91-46a5-abf2-9f60794f5bc6"
      },
      "source": [
        "print(type(27)) # O tipo de dados do número 27 é int(numero inteiro)\n",
        "print(type(5.7)) # O tipo de dados do número 5.7 é float(numero decimal)\n",
        "print(type(5.7 + 27j)) # O tipo de dados do número 5.7 é complex (numero coplex)\n",
        "print(type('Isso é um texto, \"Aspas\" \\n'))\n",
        "print(type(False))"
      ],
      "execution_count": null,
      "outputs": [
        {
          "output_type": "stream",
          "text": [
            "<class 'int'>\n",
            "<class 'float'>\n",
            "<class 'complex'>\n",
            "<class 'str'>\n",
            "<class 'bool'>\n"
          ],
          "name": "stdout"
        }
      ]
    },
    {
      "cell_type": "markdown",
      "metadata": {
        "id": "1Aajf9fIK1qx"
      },
      "source": [
        "# Variáveis "
      ]
    },
    {
      "cell_type": "code",
      "metadata": {
        "colab": {
          "base_uri": "https://localhost:8080/"
        },
        "id": "tCWKfak6LZ4Y",
        "outputId": "fc95f436-b337-4028-9546-fb415fb96a39"
      },
      "source": [
        "nome_usuario = \"Danilo\"\n",
        "numero = 20\n",
        "fracao = 8.5\n",
        "print(nome, numero, fracao)\n"
      ],
      "execution_count": null,
      "outputs": [
        {
          "output_type": "stream",
          "text": [
            "Danilo 20 8.5\n"
          ],
          "name": "stdout"
        }
      ]
    },
    {
      "cell_type": "markdown",
      "metadata": {
        "id": "oVBDb1UTOrbg"
      },
      "source": [
        "# `Concatenação e conversão de tipos de variáveis"
      ]
    },
    {
      "cell_type": "code",
      "metadata": {
        "colab": {
          "base_uri": "https://localhost:8080/"
        },
        "id": "4Z0rE4_AO67a",
        "outputId": "335a3dcb-2452-43c8-c2b1-babb8bdcb72c"
      },
      "source": [
        "\n",
        "\n",
        "primeiro_numero = \"20\"\n",
        "segundo_numero = \"21\"\n",
        "print(primeiro_numero + \" \" +segundo_numero)\n",
        "print(primeiro_numero, segundo_numero)\n",
        "\n",
        "nome  = \"Danilo\"\n",
        "sobrenome = \"Miguel\"\n",
        "idade = 35\n",
        "\n",
        "print(type(idade))\n",
        "\n",
        "print(nome, sobrenome, idade)\n",
        "print (\"Oi meu nome é: \" + nome + \" \" + sobrenome + \" minha idade é 35\")\n",
        "print (\"Oi meu nome é: \" + nome + \" e minha idade é \" + str(idade))\n",
        "print (\"Oi meu nome é: \",nome, \" e minha idade é\",idade, \"teste\" )\n",
        "\n",
        "print(type(idade))       \n",
        "print(type(str(idade)))   # resulta STR\n",
        "\n",
        "\n",
        "print(type(idade))\n",
        "\n",
        "str()\n",
        "\n",
        "numero_inteiro = 100\n",
        "numero  = float(numero_inteiro)\n",
        "\n",
        "print(numero_inteiro, numero)\n",
        "\n",
        "teste_conversao = \"45.\"\n",
        "teste_conversao_string = float(teste_conversao)\n",
        "print(teste_conversao)\n",
        "print(teste_conversao_string)\n",
        "\n",
        "numero_complexo_string =\"1 + 5j\"\n",
        "string_teste = \"j\"\n",
        "convert_complex = complex(string_teste)\n",
        "numero_complexo = complex(numero_complexo_string)\n"
      ],
      "execution_count": null,
      "outputs": [
        {
          "output_type": "stream",
          "text": [
            "20 21\n",
            "20 21\n",
            "<class 'int'>\n",
            "Danilo Miguel 35\n",
            "Oi meu nome é: Danilo Miguel minha idade é 35\n",
            "Oi meu nome é: Danilo e minha idade é 35\n",
            "Oi meu nome é:  Danilo  e minha idade é 35 teste\n",
            "<class 'int'>\n",
            "<class 'str'>\n",
            "<class 'int'>\n",
            "100 100.0\n",
            "45.\n",
            "45.0\n"
          ],
          "name": "stdout"
        }
      ]
    },
    {
      "cell_type": "markdown",
      "metadata": {
        "id": "Gg9kziH_WlKz"
      },
      "source": [
        "# Quem é você? Imprima seu nome, sua idade e qual será sua idade no próximo ano."
      ]
    },
    {
      "cell_type": "code",
      "metadata": {
        "colab": {
          "base_uri": "https://localhost:8080/"
        },
        "id": "TV63TwLHXhZR",
        "outputId": "6a283fca-50e4-4706-bd3e-abbb3fac0daf"
      },
      "source": [
        "idade = 35\n",
        "nome = \"Danilo\"\n",
        "print(\"Meu nome é\" + \" \" + nome + \" minha idade é \" + str(idade) + \" e ano q vem minha idade sera \" + str(idade + 1))\n"
      ],
      "execution_count": null,
      "outputs": [
        {
          "output_type": "stream",
          "text": [
            "Meu nome é Danilo minha idade é 35 e ano q vem minha idade sera 36\n"
          ],
          "name": "stdout"
        }
      ]
    },
    {
      "cell_type": "markdown",
      "metadata": {
        "id": "giDs_SUAaDu4"
      },
      "source": [
        "# Operação com boleanos"
      ]
    }
  ]
}